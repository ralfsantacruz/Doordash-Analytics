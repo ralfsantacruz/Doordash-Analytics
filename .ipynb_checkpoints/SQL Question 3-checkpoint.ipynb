{
 "cells": [
  {
   "cell_type": "code",
   "execution_count": 2,
   "metadata": {},
   "outputs": [],
   "source": [
    "import pandas as pd\n",
    "import sqlalchemy"
   ]
  },
  {
   "cell_type": "code",
   "execution_count": 3,
   "metadata": {},
   "outputs": [],
   "source": [
    "# Create connection to SQL database called Doordash\n",
    "engine = sqlalchemy.create_engine(\"mysql+pymysql://root:@localhost:3386/Doordash\")"
   ]
  },
  {
   "cell_type": "code",
   "execution_count": 7,
   "metadata": {},
   "outputs": [],
   "source": [
    "# Create query\n",
    "query = '''SELECT sub2.effective_hourly_rate, sub2.dasher_email\n",
    "FROM (\n",
    "\tSELECT sub1.total/sub1.hours_worked as \"effective_hourly_rate\", \n",
    "\tsub1.email as \"dasher_email\",\n",
    "\tsub1.dasher_id as \"dasher_id\"\n",
    "\tFROM (\n",
    "\t\tSELECT sum(d.total_pay) as \"total\",\n",
    "\t\tsum(datediff(second,d.dash_start_time,d.dash_end_time)/3600.0)) as \"hours_worked\",\n",
    "\t\tda.email_address as \"email\",\n",
    "\t\td.dasher_id\n",
    "\t\tFROM Dash d\n",
    "\t\tJOIN Dasher da\n",
    "\t\tON (d.dasher_id=da.id)\n",
    "\t\tWHERE dash_end_time BETWEEN NOW() - INTERVAL 30 DAY AND NOW()\n",
    "\t\tGROUP BY dasher_id\n",
    "\t\t)\n",
    "\t\tsub1\n",
    "\torder by sub1.total/sub1.hours_worked desc\n",
    "    ) sub2'''\n",
    "\n",
    "# Execute query and save returned result as a pandas dataframe\n",
    "df = pd.read_sql_query(query, engine)"
   ]
  },
  {
   "cell_type": "code",
   "execution_count": null,
   "metadata": {},
   "outputs": [],
   "source": [
    "rate = \"sub2.effective_hourly_rate\"\n",
    "\n",
    "# Equivalent of SELECT * FROM <table> WHERE rate < median\n",
    "df = df[(df[rate] < df[rate].median())]\n",
    "\n",
    "# Display the dataframe\n",
    "df.head()"
   ]
  }
 ],
 "metadata": {
  "kernelspec": {
   "display_name": "PythonData",
   "language": "python",
   "name": "pythondata"
  },
  "language_info": {
   "codemirror_mode": {
    "name": "ipython",
    "version": 3
   },
   "file_extension": ".py",
   "mimetype": "text/x-python",
   "name": "python",
   "nbconvert_exporter": "python",
   "pygments_lexer": "ipython3",
   "version": "3.6.0"
  }
 },
 "nbformat": 4,
 "nbformat_minor": 2
}
